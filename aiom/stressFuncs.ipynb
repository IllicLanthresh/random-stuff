{
 "cells": [
  {
   "cell_type": "code",
   "execution_count": 1,
   "outputs": [],
   "source": [
    "from math import pi, tan, atan\n",
    "from random import random\n",
    "\n",
    "\n",
    "def stress_tan(r):\n",
    "    x = 2 * pi * random()\n",
    "    for _ in range(r+1):\n",
    "        x = atan(tan(x))\n",
    "    return x\n",
    "\n",
    "def stress_prime(r):\n",
    "    primes = []\n",
    "    for num in range(2, r+1):\n",
    "        primes.append(num)\n",
    "        for div in range(2, num):\n",
    "            if not num%div:\n",
    "                primes.remove(num)\n",
    "                break\n",
    "    return primes\n",
    "\n",
    "def stress_factorial(x):\n",
    "    result = 1\n",
    "    for num in range(1, x + 1):\n",
    "        result *= num\n",
    "    return result"
   ],
   "metadata": {
    "collapsed": false,
    "pycharm": {
     "name": "#%%\n"
    }
   }
  },
  {
   "cell_type": "code",
   "execution_count": null,
   "outputs": [
    {
     "name": "stdout",
     "output_type": "stream",
     "text": [
      "pow 1:\n",
      "\t%timeit:\n",
      "\t\tprime:\t\t7.05 µs ± 799 ns per loop (mean ± std. dev. of 7 runs, 100000 loops each)\n",
      "\t\tfactorial:\t1.38 µs ± 92.1 ns per loop (mean ± std. dev. of 7 runs, 1000000 loops each)\n",
      "\t\ttan:\t\t3.04 µs ± 375 ns per loop (mean ± std. dev. of 7 runs, 100000 loops each)\n",
      "\n",
      "\n",
      "\n",
      "pow 3:\n",
      "\t%timeit:\n",
      "\t\tprime:\t\t6.45 ms ± 283 µs per loop (mean ± std. dev. of 7 runs, 100 loops each)\n",
      "\t\tfactorial:\t321 µs ± 19.5 µs per loop (mean ± std. dev. of 7 runs, 1000 loops each)\n",
      "\t\ttan:\t\t198 µs ± 12 µs per loop (mean ± std. dev. of 7 runs, 10000 loops each)\n",
      "\n",
      "\n",
      "\n",
      "pow 5:\n",
      "\t%timeit:\n",
      "\t\tprime:\t\t43.1 s ± 1.74 s per loop (mean ± std. dev. of 7 runs, 1 loop each)\n",
      "\t\tfactorial:\t3.09 s ± 74.9 ms per loop (mean ± std. dev. of 7 runs, 1 loop each)\n",
      "\t\ttan:\t\t17.5 ms ± 1.64 ms per loop (mean ± std. dev. of 7 runs, 10 loops each)\n",
      "\n",
      "\n",
      "\n",
      "pow 7:\n",
      "\t%timeit:\n",
      "\t\tprime:\t\t"
     ]
    }
   ],
   "source": [
    "for i in range(1, 10, 2):\n",
    "    print(f'pow {i}:')\n",
    "    print('\\t%timeit:')\n",
    "    print('\\t\\tprime:\\t\\t', end='')\n",
    "    %timeit stress_prime(pow(10, i))\n",
    "    print('\\t\\tfactorial:\\t', end='')\n",
    "    %timeit stress_factorial(pow(10, i))\n",
    "    print('\\t\\ttan:\\t\\t', end='')\n",
    "    %timeit stress_tan(pow(10, i))\n",
    "    # print('\\n')\n",
    "    # print('\\t%time:')\n",
    "    # print('\\t\\tprime:\\t\\t', end='')\n",
    "    # %time stress_prime(pow(10, i))\n",
    "    # print('\\t\\tfactorial:\\t', end='')\n",
    "    # %time stress_factorial(pow(10, i))\n",
    "    # print('\\t\\ttan:\\t\\t', end='')\n",
    "    # %time stress_tan(pow(10, i))\n",
    "    print('\\n\\n')\n"
   ],
   "metadata": {
    "collapsed": false,
    "pycharm": {
     "name": "#%%\n",
     "is_executing": true
    }
   }
  }
 ],
 "metadata": {
  "kernelspec": {
   "display_name": "Python 3",
   "language": "python",
   "name": "python3"
  },
  "language_info": {
   "codemirror_mode": {
    "name": "ipython",
    "version": 2
   },
   "file_extension": ".py",
   "mimetype": "text/x-python",
   "name": "python",
   "nbconvert_exporter": "python",
   "pygments_lexer": "ipython2",
   "version": "2.7.6"
  }
 },
 "nbformat": 4,
 "nbformat_minor": 0
}